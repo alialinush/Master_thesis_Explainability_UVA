{
 "cells": [
  {
   "cell_type": "markdown",
   "metadata": {},
   "source": [
    "# Conformal Prediction - Notebook"
   ]
  },
  {
   "cell_type": "markdown",
   "metadata": {},
   "source": [
    "### Table of Contents"
   ]
  },
  {
   "cell_type": "markdown",
   "metadata": {},
   "source": [
    "* [Import Libraries and Data](#chapterLibraryData)\n",
    "\n",
    "* [Chapter 1. Manual Prediction Sets generation ](#chapter1)\n",
    "* [Chapter 2. MapieClassifier Prediction Sets generation ](#chapter2)\n",
    "  * [Section 2.1 Coverage and Set Size](#section_2_1)\n",
    "  * [Section 2.2 Level Generation](#section_2_2)\n",
    "  * [Section 2.3 Data File export](#section_2_3)"
   ]
  },
  {
   "cell_type": "markdown",
   "metadata": {},
   "source": [
    "### Import Libraries and Data <a class=\"anchor\" id=\"chapterLibraryData\"></a>"
   ]
  },
  {
   "cell_type": "code",
   "execution_count": 6,
   "metadata": {},
   "outputs": [],
   "source": [
    "import joblib\n",
    "import pandas as pd\n",
    "import numpy as np\n",
    "import plotly.express as px\n",
    "from mapie.classification import MapieClassifier\n",
    "from mapie.metrics import classification_coverage_score\n",
    "from mapie.metrics import classification_mean_width_score"
   ]
  },
  {
   "cell_type": "code",
   "execution_count": null,
   "metadata": {},
   "outputs": [],
   "source": [
    "model_rf = joblib.load('../models/model_rf.joblib')\n",
    "\n",
    "X_test = pd.read_csv('../data/X_test_cp.csv',index_col=0)\n",
    "y_test = pd.read_csv('../data/y_test_cp.csv',index_col=0)\n",
    "y_test = y_test.iloc[:, 0]\n",
    "X_calibration = pd.read_csv('../data/X_calibration_cp.csv',index_col=0)\n",
    "y_calibration = pd.read_csv('../data/y_calibration_cp.csv',index_col=0)\n",
    "y_calibration = y_calibration .iloc[:, 0]\n",
    "\n",
    "le = joblib.load('label_encoder.joblib')"
   ]
  },
  {
   "cell_type": "markdown",
   "metadata": {},
   "source": [
    "### Manual Prediction Sets generation <a class=\"anchor\" ></a>"
   ]
  },
  {
   "cell_type": "code",
   "execution_count": null,
   "metadata": {},
   "outputs": [],
   "source": [
    "model_rf.predict_proba(X_test)"
   ]
  },
  {
   "cell_type": "code",
   "execution_count": null,
   "metadata": {},
   "outputs": [],
   "source": [
    "n = len(X_calibration)\n",
    "predictions = model_rf.predict_proba(X_calibration)\n",
    "prob_true_class = predictions[np.arange(n), y_calibration]\n",
    "scores = 1 - prob_true_class\n",
    "\n",
    "alpha = 0.05\n",
    "q_level = np.ceil((n+1)*(1-alpha))/n\n",
    "qhat = np.quantile(scores, q_level)\n",
    "prediction_sets = (1 - model_rf.predict_proba(X_test) <= qhat)\n",
    "\n",
    "print(qhat)\n",
    "print()\n",
    "print(prediction_sets)\n",
    "print()\n",
    "for i in range(5): print(le.classes_[prediction_sets[i]])"
   ]
  },
  {
   "cell_type": "code",
   "execution_count": null,
   "metadata": {},
   "outputs": [],
   "source": [
    "model_rf.predict_proba(X_test)[2]"
   ]
  },
  {
   "cell_type": "code",
   "execution_count": null,
   "metadata": {},
   "outputs": [],
   "source": [
    "prediction_sets[2]"
   ]
  },
  {
   "cell_type": "markdown",
   "metadata": {},
   "source": [
    "### MapieClassifier Prediction Sets generation"
   ]
  },
  {
   "cell_type": "code",
   "execution_count": null,
   "metadata": {},
   "outputs": [],
   "source": [
    "cp = MapieClassifier(estimator=model_rf, cv=\"prefit\", method=\"score\")\n",
    "cp.fit(X_calibration, y_calibration)\n",
    "y_pred, y_set = cp.predict(X_test, alpha=0.05)\n",
    "y_set = np.squeeze(y_set)\n",
    "y_set = [list(le.classes_[subarr]) for subarr in y_set]\n",
    "\n",
    "set_sizes = [len(sublist) for sublist in y_set]\n",
    "\n",
    "d = {\"set\": y_set, \"size\": set_sizes}\n",
    "df = pd.DataFrame(d)\n",
    "df"
   ]
  },
  {
   "cell_type": "code",
   "execution_count": null,
   "metadata": {},
   "outputs": [],
   "source": [
    "df[\"set\"].value_counts()"
   ]
  },
  {
   "cell_type": "markdown",
   "metadata": {},
   "source": [
    "### Coverage and Set Size"
   ]
  },
  {
   "cell_type": "code",
   "execution_count": null,
   "metadata": {},
   "outputs": [],
   "source": [
    "y_pred, y_set = cp.predict(X_test, alpha=0.05)\n",
    "y_set = np.squeeze(y_set)\n",
    "cov = classification_coverage_score(y_test, y_set) \n",
    "setsize = classification_mean_width_score(y_set) \n",
    "print('Coverage: {:.2%}'.format(cov))\n",
    "print(\"Avg. set size: {:.2f}\".format(setsize))"
   ]
  },
  {
   "cell_type": "code",
   "execution_count": null,
   "metadata": {},
   "outputs": [],
   "source": [
    "def class_wise_performance(y_new, y_set, classes):\n",
    "\n",
    "    df = pd.DataFrame()\n",
    "    for i in range(len(classes)):\n",
    "        y_new_class = y_new[y_new == classes[i]]\n",
    "        y_set_class = y_set[y_new == classes[i]]\n",
    "        cov = classification_coverage_score(y_new_class, y_set_class)\n",
    "        size = classification_mean_width_score(y_set_class)\n",
    "        temp_df = pd.DataFrame({\n",
    "            \"class\": [classes[i]],\n",
    "            \"coverage\": [cov],\n",
    "            \"avg. set size\": [size]\n",
    "        })\n",
    "        df = pd.concat([df, temp_df], ignore_index=True)\n",
    "\n",
    "    return df\n",
    "\n",
    "classes = [0, 1] \n",
    "print(class_wise_performance(y_test, y_set, le.classes_))"
   ]
  },
  {
   "cell_type": "markdown",
   "metadata": {},
   "source": [
    "### Level Generation"
   ]
  },
  {
   "cell_type": "code",
   "execution_count": null,
   "metadata": {},
   "outputs": [],
   "source": [
    "predictions = model_rf.predict(X_test)\n",
    "X_test[\"Predictions\"]= predictions\n",
    "X_test[\"Actual\"] = y_test\n",
    "X_test[\"Sets\"] = y_set"
   ]
  },
  {
   "cell_type": "code",
   "execution_count": null,
   "metadata": {},
   "outputs": [],
   "source": [
    "def determine_level(sets):\n",
    "    if sets == [0] or sets == [1]:\n",
    "        return 'certain'\n",
    "    elif sets == [0, 1]:\n",
    "        return 'uncertain'\n",
    "\n",
    "X_test['level'] = X_test['Sets'].apply(determine_level)"
   ]
  },
  {
   "cell_type": "code",
   "execution_count": null,
   "metadata": {},
   "outputs": [],
   "source": [
    "X_test['level'].value_counts()"
   ]
  },
  {
   "cell_type": "code",
   "execution_count": null,
   "metadata": {},
   "outputs": [],
   "source": [
    "X_test[X_test['Predictions'] == 1].iloc[0]"
   ]
  },
  {
   "cell_type": "markdown",
   "metadata": {},
   "source": [
    "### Data file export"
   ]
  },
  {
   "cell_type": "code",
   "execution_count": null,
   "metadata": {},
   "outputs": [],
   "source": [
    "X_test.to_csv(\"conformal_prediction.csv\", index=True)  "
   ]
  }
 ],
 "metadata": {
  "kernelspec": {
   "display_name": "uva_thesis_explainability",
   "language": "python",
   "name": "python3"
  },
  "language_info": {
   "codemirror_mode": {
    "name": "ipython",
    "version": 3
   },
   "file_extension": ".py",
   "mimetype": "text/x-python",
   "name": "python",
   "nbconvert_exporter": "python",
   "pygments_lexer": "ipython3",
   "version": "3.11.7"
  }
 },
 "nbformat": 4,
 "nbformat_minor": 2
}
